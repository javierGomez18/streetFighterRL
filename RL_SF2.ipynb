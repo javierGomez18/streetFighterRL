{
 "cells": [
  {
   "cell_type": "markdown",
   "id": "c1c59353-82f8-4376-8ae2-e1662bbe8976",
   "metadata": {},
   "source": [
    "# Configurar Entorno\n",
    "\n",
    "## Importar librerias"
   ]
  },
  {
   "cell_type": "code",
   "execution_count": 4,
   "id": "28dbc0a7-8883-4eea-b1c7-e30a983bcdcd",
   "metadata": {
    "tags": []
   },
   "outputs": [],
   "source": [
    "# Filtramos los warnings\n",
    "import warnings\n",
    "warnings.filterwarnings(\"ignore\")\n",
    "\n",
    "# Forzar uso CPU en caso de dispones GPU en el PC\n",
    "import os \n",
    "os.environ['CUDA_VISIBLE_DEVICES'] = '-1'\n",
    "\n",
    "# instalar librerias\n",
    "#!pip3 install gym gym-retro\n",
    "#Instalar con pip3, con pip dio problemas al reconocer las roms\n",
    "#!pip3 install torch torchvision torchaudio --extra-index-url https://download.pytorch.org/whl/cu113\n",
    "#!pip3 install optuna\n",
    "#!pip3 install tensorflow==2.3.0\n",
    "#!pip3 install keras keras-rl2\n",
    "\n",
    "# Import retro para crear el entorno Street Fighter a partir de la ROM\n",
    "import retro\n",
    "\n",
    "# Import Time para relentizar el juego\n",
    "import time\n",
    "\n",
    "# Import Clase base del entorno para hacer wrapper\n",
    "from gym import Env\n",
    "\n",
    "# Import los shapes espaciales para el entorno\n",
    "from gym.spaces import MultiBinary, Box\n",
    "\n",
    "# Import numpy para calcular el frame delta\n",
    "import numpy as np\n",
    "\n",
    "# Import opencv para aplicar la escala de grises\n",
    "import cv2\n",
    "\n",
    "# Import matplotlib para visualizar la imagen\n",
    "from matplotlib import pyplot as plt\n"
   ]
  },
  {
   "cell_type": "markdown",
   "id": "af572dbd-0df2-43f4-baed-45e437ceba9d",
   "metadata": {},
   "source": [
    "## Configuración del Entorno"
   ]
  },
  {
   "cell_type": "code",
   "execution_count": 5,
   "id": "a4d15c64-278d-4ffd-b195-6e71bf8870a7",
   "metadata": {},
   "outputs": [],
   "source": [
    "# Creamos una clase para definir el entorno de SF2\n",
    "class StreetFighter(Env):\n",
    "    def __init__(self):\n",
    "        super().__init__()\n",
    "        # Especificar el espacio de acciones y el espacio de observaciones\n",
    "        self.observation_space = Box(low=0, \n",
    "                                     high=255, \n",
    "                                     shape=(84, 84, 1), \n",
    "                                     dtype=np.uint8)\n",
    "        \n",
    "        self.action_space = MultiBinary(12)\n",
    "        \n",
    "        # Instanciar el entorno\n",
    "        self.game = retro.make(game='StreetFighterIISpecialChampionEdition-Genesis',\n",
    "                               use_restricted_actions=retro.Actions.FILTERED)\n",
    "    \n",
    "    def reset(self):\n",
    "        \n",
    "        # Devolvemos el primer frame\n",
    "        obs = self.game.reset()\n",
    "         \n",
    "        # Preprocess\n",
    "        obs = self.preprocess(obs)\n",
    "        self.previous_frame = obs\n",
    "        \n",
    "        # Inicializar atributo para la diferencia de la puntuación\n",
    "        self.score = 0\n",
    "        \n",
    "        return obs\n",
    "    \n",
    "    def preprocess(self, observation):\n",
    "        # Aplicamos el redimensionado del frame y el escalado de grises\n",
    "        # Escalado de grises\n",
    "        gray = cv2.cvtColor(observation, cv2.COLOR_BGR2GRAY)\n",
    "        # Redimensionado del frame\n",
    "        resize = cv2.resize(gray, (84,84), interpolation=cv2.INTER_CUBIC)\n",
    "        # Añadir el valor de los canales\n",
    "        channel = np.reshape(resize, (84,84,1))\n",
    "        \n",
    "        return channel\n",
    "    \n",
    "    def step(self, action):\n",
    "        # Realizar una acción\n",
    "        obs, reward, done, info = self.game.step(action)\n",
    "        \n",
    "        # Procesamos la observación\n",
    "        obs = self.preprocess(obs)\n",
    "        \n",
    "        # Calcular frame delta (Variación en frame anterior y actual)\n",
    "        frame_delta = obs - self.previous_frame\n",
    "        self.previous_frame = obs\n",
    "        \n",
    "        # Adaptamos la función de recompensa\n",
    "        reward = info['score'] - self.score\n",
    "        self.score = info['score']\n",
    "        \n",
    "        return frame_delta, reward, done, info\n",
    "    \n",
    "    def render(self, *args, **kwargs):\n",
    "        self.game.render()\n",
    "        \n",
    "    def close(self):\n",
    "        self.game.close()"
   ]
  },
  {
   "cell_type": "markdown",
   "id": "146159c5-b9a8-4d7f-ba7f-a7476d126778",
   "metadata": {},
   "source": [
    "# Creación modelo\n",
    "\n",
    "La arquitectura de la DQN se compondrá de dos partes:\n",
    " * Visión por computación: reconocimiento de imágenes.\n",
    " * Regresión: determinar los valores Q de cada acción."
   ]
  }
 ],
 "metadata": {
  "kernelspec": {
   "display_name": "Python 3 (ipykernel)",
   "language": "python",
   "name": "python3"
  },
  "language_info": {
   "codemirror_mode": {
    "name": "ipython",
    "version": 3
   },
   "file_extension": ".py",
   "mimetype": "text/x-python",
   "name": "python",
   "nbconvert_exporter": "python",
   "pygments_lexer": "ipython3",
   "version": "3.7.13"
  }
 },
 "nbformat": 4,
 "nbformat_minor": 5
}
