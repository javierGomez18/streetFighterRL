{
 "cells": [
  {
   "cell_type": "markdown",
   "id": "c1c59353-82f8-4376-8ae2-e1662bbe8976",
   "metadata": {},
   "source": [
    "# Configurar Entorno\n",
    "\n",
    "## Importar librerias"
   ]
  },
  {
   "cell_type": "code",
   "execution_count": 29,
   "id": "28dbc0a7-8883-4eea-b1c7-e30a983bcdcd",
   "metadata": {
    "tags": []
   },
   "outputs": [],
   "source": [
    "# Filtramos los warnings\n",
    "import warnings\n",
    "warnings.filterwarnings(\"ignore\")\n",
    "\n",
    "# Forzar uso CPU en caso de dispones GPU en el PC\n",
    "import os \n",
    "os.environ['CUDA_VISIBLE_DEVICES'] = '-1'\n",
    "\n",
    "# instalar librerias\n",
    "#!pip3 install gym gym-retro\n",
    "#Instalar con pip3, con pip dio problemas al reconocer las roms\n",
    "#!pip3 install torch torchvision torchaudio --extra-index-url https://download.pytorch.org/whl/cu113\n",
    "#!pip3 install optuna\n",
    "#!pip3 install tensorflow==2.3.0\n",
    "#!pip3 install keras keras-rl2\n",
    "\n",
    "# Import retro para crear el entorno Street Fighter a partir de la ROM\n",
    "import retro\n",
    "\n",
    "# Import Time para relentizar el juego\n",
    "import time\n",
    "\n",
    "# Import Clase base del entorno para hacer wrapper\n",
    "from gym import Env\n",
    "\n",
    "# Import los shapes espaciales para el entorno\n",
    "from gym.spaces import MultiBinary, Box\n",
    "\n",
    "# Import numpy para calcular el frame delta\n",
    "import numpy as np\n",
    "\n",
    "# Import opencv para aplicar la escala de grises\n",
    "import cv2\n",
    "\n",
    "# Import matplotlib para visualizar la imagen\n",
    "from matplotlib import pyplot as plt\n",
    "\n",
    "# Import generación modelo\n",
    "from tensorflow.keras.models import Sequential\n",
    "from tensorflow.keras.layers import Dense, Flatten, Conv2D\n",
    "from tensorflow.keras.optimizers import Adam\n",
    "\n",
    "# Construcción del agente\n",
    "from rl.agents import DQNAgent\n",
    "from rl.policy import BoltzmannQPolicy\n",
    "from rl.memory import SequentialMemory"
   ]
  },
  {
   "cell_type": "markdown",
   "id": "af572dbd-0df2-43f4-baed-45e437ceba9d",
   "metadata": {},
   "source": [
    "## Configuración del Entorno"
   ]
  },
  {
   "cell_type": "code",
   "execution_count": 30,
   "id": "a4d15c64-278d-4ffd-b195-6e71bf8870a7",
   "metadata": {},
   "outputs": [],
   "source": [
    "# Creamos una clase para definir el entorno de SF2\n",
    "class StreetFighter(Env):\n",
    "    def __init__(self):\n",
    "        super().__init__()\n",
    "        # Especificar el espacio de acciones y el espacio de observaciones\n",
    "        self.observation_space = Box(low=0, \n",
    "                                     high=255, \n",
    "                                     shape=(84, 84, 1), \n",
    "                                     dtype=np.uint8)\n",
    "        \n",
    "        self.action_space = MultiBinary(12)\n",
    "        \n",
    "        # Instanciar el entorno\n",
    "        self.game = retro.make(game='StreetFighterIISpecialChampionEdition-Genesis',\n",
    "                               use_restricted_actions=retro.Actions.FILTERED)\n",
    "    \n",
    "    def reset(self):\n",
    "        \n",
    "        # Devolvemos el primer frame\n",
    "        obs = self.game.reset()\n",
    "         \n",
    "        # Preprocess\n",
    "        obs = self.preprocess(obs)\n",
    "        self.previous_frame = obs\n",
    "        \n",
    "        # Inicializar atributo para la diferencia de la puntuación\n",
    "        self.score = 0\n",
    "        \n",
    "        return obs\n",
    "    \n",
    "    def preprocess(self, observation):\n",
    "        # Aplicamos el redimensionado del frame y el escalado de grises\n",
    "        # Escalado de grises\n",
    "        gray = cv2.cvtColor(observation, cv2.COLOR_BGR2GRAY)\n",
    "        # Redimensionado del frame\n",
    "        resize = cv2.resize(gray, (84,84), interpolation=cv2.INTER_CUBIC)\n",
    "        # Añadir el valor de los canales\n",
    "        channel = np.reshape(resize, (84,84,1))\n",
    "        \n",
    "        return channel\n",
    "    \n",
    "    def step(self, action):\n",
    "        # Realizar una acción\n",
    "        obs, reward, done, info = self.game.step(action)\n",
    "        \n",
    "        # Procesamos la observación\n",
    "        obs = self.preprocess(obs)\n",
    "        \n",
    "        # Calcular frame delta (Variación en frame anterior y actual)\n",
    "        frame_delta = obs - self.previous_frame\n",
    "        self.previous_frame = obs\n",
    "        \n",
    "        # Adaptamos la función de recompensa\n",
    "        reward = info['score'] - self.score\n",
    "        self.score = info['score']\n",
    "        \n",
    "        return frame_delta, reward, done, info\n",
    "    \n",
    "    def render(self, *args, **kwargs):\n",
    "        self.game.render()\n",
    "        \n",
    "    def close(self):\n",
    "        self.game.close()"
   ]
  },
  {
   "cell_type": "markdown",
   "id": "146159c5-b9a8-4d7f-ba7f-a7476d126778",
   "metadata": {},
   "source": [
    "# Creación modelo\n",
    "\n",
    "La arquitectura de la DQN se compondrá de dos partes:\n",
    " * Visión por computación: reconocimiento de imágenes.\n",
    " * Regresión: determinar los valores Q de cada acción."
   ]
  },
  {
   "cell_type": "code",
   "execution_count": 45,
   "id": "c3f12119-2dec-4ded-b84e-bae049608fae",
   "metadata": {},
   "outputs": [],
   "source": [
    "# Definición de la arquitectura de la DQN\n",
    "\n",
    "def build_DQN(input_shape, output_shape):\n",
    "    \n",
    "    model = Sequential()\n",
    "    \n",
    "    # Bloque Capas convolucionales\n",
    "    model.add(Conv2D(input_shape=input_shape, filters=32, kernel_size=8, strides=4, activation=\"relu\"))\n",
    "    model.add(Conv2D(filters=64, kernel_size=4, strides=2, activation=\"relu\"))\n",
    "    model.add(Conv2D(filters=64, kernel_size=3, strides=1, activation=\"relu\"))\n",
    "    \n",
    "    model.add(Flatten())\n",
    "    \n",
    "    # Bloque Capas lineales para determinar el Q-valor \n",
    "    model.add(Dense(units=512, activation='linear'))\n",
    "    model.add(Dense(units=output_shape, activation='linear'))\n",
    "    \n",
    "    return model"
   ]
  },
  {
   "cell_type": "code",
   "execution_count": 46,
   "id": "0da49428-57f3-4dcd-aff4-ad0cbc32a82e",
   "metadata": {},
   "outputs": [],
   "source": [
    "env.close()\n",
    "env = StreetFighter()"
   ]
  },
  {
   "cell_type": "code",
   "execution_count": 47,
   "id": "c9f9709e-3cc5-4008-b8ca-eb754c38a071",
   "metadata": {},
   "outputs": [],
   "source": [
    "model = build_DQN(env.observation_space.shape, env.action_space.shape[0])"
   ]
  },
  {
   "cell_type": "code",
   "execution_count": 48,
   "id": "8800dc8b-6cce-455b-a3a0-375757715ea7",
   "metadata": {},
   "outputs": [
    {
     "name": "stdout",
     "output_type": "stream",
     "text": [
      "Model: \"sequential_4\"\n",
      "_________________________________________________________________\n",
      " Layer (type)                Output Shape              Param #   \n",
      "=================================================================\n",
      " conv2d_5 (Conv2D)           (None, 20, 20, 32)        2080      \n",
      "                                                                 \n",
      " conv2d_6 (Conv2D)           (None, 9, 9, 64)          32832     \n",
      "                                                                 \n",
      " conv2d_7 (Conv2D)           (None, 7, 7, 64)          36928     \n",
      "                                                                 \n",
      " flatten_1 (Flatten)         (None, 3136)              0         \n",
      "                                                                 \n",
      " dense (Dense)               (None, 512)               1606144   \n",
      "                                                                 \n",
      " dense_1 (Dense)             (None, 12)                6156      \n",
      "                                                                 \n",
      "=================================================================\n",
      "Total params: 1,684,140\n",
      "Trainable params: 1,684,140\n",
      "Non-trainable params: 0\n",
      "_________________________________________________________________\n"
     ]
    }
   ],
   "source": [
    "model.summary()"
   ]
  }
 ],
 "metadata": {
  "kernelspec": {
   "display_name": "Python 3 (ipykernel)",
   "language": "python",
   "name": "python3"
  },
  "language_info": {
   "codemirror_mode": {
    "name": "ipython",
    "version": 3
   },
   "file_extension": ".py",
   "mimetype": "text/x-python",
   "name": "python",
   "nbconvert_exporter": "python",
   "pygments_lexer": "ipython3",
   "version": "3.7.13"
  }
 },
 "nbformat": 4,
 "nbformat_minor": 5
}
